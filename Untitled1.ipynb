{
  "nbformat": 4,
  "nbformat_minor": 0,
  "metadata": {
    "colab": {
      "provenance": [],
      "authorship_tag": "ABX9TyNbJ6kZGniB5hnvYbWXlFzE",
      "include_colab_link": true
    },
    "kernelspec": {
      "name": "python3",
      "display_name": "Python 3"
    },
    "language_info": {
      "name": "python"
    }
  },
  "cells": [
    {
      "cell_type": "markdown",
      "metadata": {
        "id": "view-in-github",
        "colab_type": "text"
      },
      "source": [
        "<a href=\"https://colab.research.google.com/github/shashidharhalakatti/shass/blob/main/Untitled1.ipynb\" target=\"_parent\"><img src=\"https://colab.research.google.com/assets/colab-badge.svg\" alt=\"Open In Colab\"/></a>"
      ]
    },
    {
      "cell_type": "code",
      "execution_count": null,
      "metadata": {
        "colab": {
          "base_uri": "https://localhost:8080/"
        },
        "id": "ylaLSOI4Qr3O",
        "outputId": "669e67e0-c641-41c9-d4d6-cddf258f4086"
      },
      "outputs": [
        {
          "output_type": "stream",
          "name": "stdout",
          "text": [
            "Requirement already satisfied: pyweaving in /usr/local/lib/python3.10/dist-packages (0.0.7)\n",
            "Requirement already satisfied: Pillow>=2.1.0 in /usr/local/lib/python3.10/dist-packages (from pyweaving) (9.4.0)\n",
            "Requirement already satisfied: six>=1.5.2 in /usr/local/lib/python3.10/dist-packages (from pyweaving) (1.16.0)\n"
          ]
        }
      ],
      "source": [
        "pip install pyweaving"
      ]
    },
    {
      "cell_type": "code",
      "source": [
        "pyweaving render draft.wif"
      ],
      "metadata": {
        "colab": {
          "base_uri": "https://localhost:8080/",
          "height": 140
        },
        "id": "_Xv--R9ERRIF",
        "outputId": "733d1d2e-7d31-45c2-e4a7-79b78ae994ab"
      },
      "execution_count": null,
      "outputs": [
        {
          "output_type": "error",
          "ename": "SyntaxError",
          "evalue": "ignored",
          "traceback": [
            "\u001b[0;36m  File \u001b[0;32m\"<ipython-input-3-31ac0be90877>\"\u001b[0;36m, line \u001b[0;32m1\u001b[0m\n\u001b[0;31m    pyweaving render draft.wif\u001b[0m\n\u001b[0m              ^\u001b[0m\n\u001b[0;31mSyntaxError\u001b[0m\u001b[0;31m:\u001b[0m invalid syntax\n"
          ]
        }
      ]
    }
  ]
}